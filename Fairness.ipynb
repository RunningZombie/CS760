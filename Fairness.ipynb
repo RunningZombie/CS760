{
 "cells": [
  {
   "cell_type": "code",
   "execution_count": 102,
   "id": "initial_id",
   "metadata": {
    "collapsed": true,
    "ExecuteTime": {
     "end_time": "2023-09-11T07:30:16.368125400Z",
     "start_time": "2023-09-11T07:30:16.338012800Z"
    }
   },
   "outputs": [],
   "source": [
    "\n",
    "from sklearn.metrics import accuracy_score, classification_report\n",
    "\n",
    "from fairlearn.metrics import demographic_parity_difference, equalized_odds_difference\n",
    "from sklearn.metrics import confusion_matrix\n",
    "\n",
    "import pandas as pd\n",
    "from sklearn.model_selection import train_test_split\n",
    "from sklearn.preprocessing import LabelEncoder\n",
    "from sklearn.ensemble import RandomForestClassifier\n",
    "from fairlearn.metrics import demographic_parity_difference\n",
    "from fairlearn.reductions import ExponentiatedGradient, DemographicParity\n",
    "\n",
    "from fairlearn.metrics import (\n",
    "    equalized_odds_difference,    \n",
    ")\n",
    "\n",
    "\n"
   ]
  },
  {
   "cell_type": "markdown",
   "source": [],
   "metadata": {
    "collapsed": false
   },
   "id": "daba77506cddf77a"
  },
  {
   "cell_type": "code",
   "execution_count": null,
   "outputs": [],
   "source": [
    "df = pd.read_csv('clean_data.csv', encoding='utf-8')\n",
    "\n",
    "data = df.sample(n=100000, random_state=1)\n",
    "\n",
    "X = data.drop(['ANZSOC Division','Date'], axis=1)\n",
    "X = pd.get_dummies(X)  # Convert categorical variables to numerical format\n",
    "Y = data['ANZSOC Division']\n",
    "\n",
    "X.head()\n",
    "##上面这些都没用的不用看\n"
   ],
   "metadata": {
    "collapsed": false,
    "ExecuteTime": {
     "start_time": "2023-09-11T07:29:11.529497900Z"
    }
   },
   "id": "189027807391be4b"
  },
  {
   "cell_type": "code",
   "execution_count": null,
   "outputs": [],
   "source": [
    "df = pd.read_csv('clean_data.csv', encoding='utf-8')\n",
    "\n",
    "data = df.sample(n=100000, random_state=1)\n",
    "\n",
    "data = data.drop(columns=['Date'])\n",
    "\n",
    "# Label encoding for categorical variables\n",
    "label_encoders = {}\n",
    "for column in ['Police District', 'Police Area', 'Person/Organisation', 'Age Group', 'ANZSOC Division','Ethnic Group']:\n",
    "    le = LabelEncoder()\n",
    "    data[column] = le.fit_transform(data[column])\n",
    "    label_encoders[column] = le\n",
    "\n",
    "# Train-test split\n",
    "X = data.drop('ANZSOC Division', axis=1)\n",
    "Y = data['ANZSOC Division']\n",
    "X_train, X_test, Y_train, Y_test = train_test_split(X, Y, test_size=0.2, random_state=42)"
   ],
   "metadata": {
    "collapsed": false,
    "ExecuteTime": {
     "start_time": "2023-09-11T07:29:11.532490700Z"
    }
   },
   "id": "75246777b5a79c33"
  },
  {
   "cell_type": "code",
   "execution_count": null,
   "outputs": [],
   "source": [
    "base_classifier = RandomForestClassifier(random_state=42)\n",
    "base_classifier.fit(X_train, Y_train)\n",
    "\n",
    "# Prediction and evaluation\n",
    "y_pred = base_classifier.predict(X_test)\n",
    "print(f\"Accuracy: {accuracy_score(Y_test, y_pred)}\")\n",
    "print(f\"Classification Report: \\n{classification_report(Y_test, y_pred)}\")\n"
   ],
   "metadata": {
    "collapsed": false,
    "ExecuteTime": {
     "start_time": "2023-09-11T07:29:11.534484600Z"
    }
   },
   "id": "5e0a6fa90dec3b5"
  },
  {
   "cell_type": "code",
   "execution_count": 111,
   "outputs": [
    {
     "name": "stdout",
     "output_type": "stream",
     "text": [
      "Fairness-unaware model demographic parity difference: 0.7768473367895267\n"
     ]
    }
   ],
   "source": [
    "# Evaluate fairness-unaware model using Fairlearn's demographic_parity_difference\n",
    "sensitive_feature_train = X_train['Ethnic Group']\n",
    "y_pred_train = base_classifier.predict(X_train)\n",
    "\n",
    "unfairness = demographic_parity_difference(Y_train, y_pred_train, sensitive_features=sensitive_feature_train)\n",
    "print(f\"Fairness-unaware model demographic parity difference: {unfairness}\")\n"
   ],
   "metadata": {
    "collapsed": false,
    "ExecuteTime": {
     "end_time": "2023-09-11T08:48:07.031200700Z",
     "start_time": "2023-09-11T08:48:05.040355200Z"
    }
   },
   "id": "49f2316824e7acca"
  },
  {
   "cell_type": "markdown",
   "source": [],
   "metadata": {
    "collapsed": false
   },
   "id": "9206b648970e2391"
  },
  {
   "cell_type": "code",
   "execution_count": 112,
   "outputs": [],
   "source": [
    "def calculate_disparate_impact(y_true, y_pred, sensitive_features):\n",
    "    # Compute the probabilities of a positive outcome for each group\n",
    "    group_labels = list(set(sensitive_features))\n",
    "    outcomes = {label: [] for label in group_labels}\n",
    "    \n",
    "    for true, pred, feature in zip(y_true, y_pred, sensitive_features):\n",
    "        outcomes[feature].append((true == pred))\n",
    "    \n",
    "    probabilities = {label: sum(values) / len(values) for label, values in outcomes.items()}\n",
    "    \n",
    "    # Assuming label '0' is for the privileged group and '1' is for the unprivileged group\n",
    "    # Adjust these based on your actual labels\n",
    "    try:\n",
    "        return probabilities[1] / probabilities[0]\n",
    "    except ZeroDivisionError:\n",
    "        return float('inf')  # Return infinity if the denominator is zero"
   ],
   "metadata": {
    "collapsed": false,
    "ExecuteTime": {
     "end_time": "2023-09-11T08:48:11.208790100Z",
     "start_time": "2023-09-11T08:48:11.200272600Z"
    }
   },
   "id": "2beef60d0dbe355f"
  },
  {
   "cell_type": "code",
   "execution_count": 114,
   "outputs": [
    {
     "name": "stdout",
     "output_type": "stream",
     "text": [
      "Disparate Impact Ratio (Unaware Model): 0.8241243423526932\n"
     ]
    }
   ],
   "source": [
    "di_ratio = calculate_disparate_impact(Y_train, y_pred_train_base, sensitive_feature_train)\n",
    "print(f\"Disparate Impact Ratio (Unaware Model): {di_ratio}\")"
   ],
   "metadata": {
    "collapsed": false,
    "ExecuteTime": {
     "end_time": "2023-09-11T08:48:17.767990400Z",
     "start_time": "2023-09-11T08:48:17.731633900Z"
    }
   },
   "id": "9e0bf77707c6ce36"
  },
  {
   "cell_type": "code",
   "execution_count": 110,
   "outputs": [],
   "source": [],
   "metadata": {
    "collapsed": false,
    "ExecuteTime": {
     "end_time": "2023-09-11T08:47:25.654813100Z",
     "start_time": "2023-09-11T08:47:25.632558500Z"
    }
   },
   "id": "5f2aeaa52ee3081"
  },
  {
   "cell_type": "code",
   "execution_count": 110,
   "outputs": [],
   "source": [],
   "metadata": {
    "collapsed": false,
    "ExecuteTime": {
     "end_time": "2023-09-11T08:47:26.989173500Z",
     "start_time": "2023-09-11T08:47:26.969452700Z"
    }
   },
   "id": "f8d8b9549eb93181"
  },
  {
   "cell_type": "code",
   "execution_count": 110,
   "outputs": [],
   "source": [],
   "metadata": {
    "collapsed": false,
    "ExecuteTime": {
     "end_time": "2023-09-11T08:47:27.521802600Z",
     "start_time": "2023-09-11T08:47:27.497514200Z"
    }
   },
   "id": "7e6fbb06d7a732cc"
  },
  {
   "cell_type": "code",
   "execution_count": null,
   "outputs": [],
   "source": [],
   "metadata": {
    "collapsed": false
   },
   "id": "a1de27a4c9c3ce45"
  }
 ],
 "metadata": {
  "kernelspec": {
   "display_name": "Python 3",
   "language": "python",
   "name": "python3"
  },
  "language_info": {
   "codemirror_mode": {
    "name": "ipython",
    "version": 2
   },
   "file_extension": ".py",
   "mimetype": "text/x-python",
   "name": "python",
   "nbconvert_exporter": "python",
   "pygments_lexer": "ipython2",
   "version": "2.7.6"
  }
 },
 "nbformat": 4,
 "nbformat_minor": 5
}
