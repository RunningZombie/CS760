{
 "cells": [
  {
   "cell_type": "code",
   "execution_count": 2,
   "metadata": {
    "id": "TUxPXDJcH3QV",
    "ExecuteTime": {
     "end_time": "2023-10-20T07:14:04.186725400Z",
     "start_time": "2023-10-20T07:14:01.787914Z"
    }
   },
   "outputs": [],
   "source": [
    "from sklearn.model_selection import train_test_split\n",
    "from sklearn.ensemble import RandomForestClassifier\n",
    "from sklearn.preprocessing import LabelEncoder\n",
    "from sklearn.metrics import accuracy_score\n",
    "import pandas as pd\n",
    "import xgboost as xgb\n",
    "from sklearn.metrics import confusion_matrix\n",
    "import numpy as np\n",
    "from fairlearn.metrics import demographic_parity_difference"
   ]
  },
  {
   "cell_type": "code",
   "execution_count": 3,
   "metadata": {
    "id": "jWkLW9_XH5SR",
    "ExecuteTime": {
     "end_time": "2023-10-20T07:14:04.901308700Z",
     "start_time": "2023-10-20T07:14:04.701572800Z"
    }
   },
   "outputs": [],
   "source": [
    "data=pd.read_csv('class.csv', encoding='utf-8')"
   ]
  },
  {
   "cell_type": "code",
   "source": [
    "###转换格式\n",
    "###转换日期\n",
    "month_dict = {\n",
    "    '1月': 'January', '2月': 'February', '3月': 'March',\n",
    "    '4月': 'April', '5月': 'May', '6月': 'June',\n",
    "    '7月': 'July', '8月': 'August', '9月': 'September',\n",
    "    '10月': 'October', '11月': 'November', '12月': 'December'\n",
    "}\n",
    "def convert_to_english_date(chinese_date_str):\n",
    "    month_chinese = chinese_date_str.split('月')[0] + '月'\n",
    "    year = chinese_date_str.split('月')[1]\n",
    "    month_english = month_dict.get(month_chinese, 'Unknown')\n",
    "    return f\"{month_english} {year}\"\n",
    "\n",
    "data['Year.Month'] = data['Year.Month'].apply(convert_to_english_date)\n",
    "data['Year.Month'] = pd.to_datetime(data['Year.Month'], errors='coerce')\n",
    "data.rename(columns={'Year.Month': 'Date'}, inplace=True)\n",
    "data.sort_values(by='Date', inplace=True)"
   ],
   "metadata": {
    "id": "OcdZjxPL7l6a",
    "ExecuteTime": {
     "end_time": "2023-10-20T07:14:05.736080900Z",
     "start_time": "2023-10-20T07:14:05.609479200Z"
    }
   },
   "execution_count": 4,
   "outputs": [
    {
     "name": "stderr",
     "output_type": "stream",
     "text": [
      "C:\\Users\\17810\\AppData\\Local\\Temp\\ipykernel_3944\\1217697845.py:16: UserWarning: Could not infer format, so each element will be parsed individually, falling back to `dateutil`. To ensure parsing is consistent and as-expected, please specify a format.\n",
      "  data['Year.Month'] = pd.to_datetime(data['Year.Month'], errors='coerce')\n"
     ]
    }
   ]
  },
  {
   "cell_type": "code",
   "source": [
    "###转换年龄\n",
    "def classify_age_group(age_group):\n",
    "    if age_group in ['0 - 4 years inclusive', '5 - 9 years inclusive', '10 - 14 years inclusive', '15 - 19 years inclusive']:\n",
    "        return 'Teenagers'\n",
    "    elif age_group in ['20 - 24 years inclusive', '25 - 29 years inclusive', '30 - 34 years inclusive', '35 - 39 years inclusive']:\n",
    "        return 'Middle-aged-young'\n",
    "    elif age_group in ['40 - 44 years inclusive', '45 - 49 years inclusive', '50 - 54 years inclusive', '55 - 59 years inclusive']:\n",
    "        return 'Middle-aged-old'\n",
    "    elif age_group in ['60 - 64 years inclusive', '65 - 69 years inclusive', '70 - 74 years inclusive', '75 - 79 years inclusive', '80 years or over']:\n",
    "        return 'Elderly'\n",
    "    else:\n",
    "        return 'Unknown'\n",
    "data['Age.Group.5Yr.Band'] = data['Age.Group.5Yr.Band'].apply(classify_age_group)"
   ],
   "metadata": {
    "id": "eUWGDc3f8VGP",
    "ExecuteTime": {
     "end_time": "2023-10-20T07:14:06.479696100Z",
     "start_time": "2023-10-20T07:14:06.412486800Z"
    }
   },
   "execution_count": 5,
   "outputs": []
  },
  {
   "cell_type": "code",
   "source": [
    "data = data[data['Ethnic.Group'] != 'Not Stated']\n",
    "data = data[data['SEX'] != 'Not Stated']"
   ],
   "metadata": {
    "id": "BkxF7sJc_cBp",
    "ExecuteTime": {
     "end_time": "2023-10-20T07:14:08.665559200Z",
     "start_time": "2023-10-20T07:14:08.615780100Z"
    }
   },
   "execution_count": 6,
   "outputs": []
  },
  {
   "cell_type": "code",
   "source": [
    "data"
   ],
   "metadata": {
    "colab": {
     "base_uri": "https://localhost:8080/",
     "height": 423
    },
    "id": "0POtEY7w8eoj",
    "outputId": "89afc25e-4afd-4f65-dfb9-bcbe1770f2a4",
    "ExecuteTime": {
     "end_time": "2023-10-20T07:14:09.807635700Z",
     "start_time": "2023-10-20T07:14:09.761480400Z"
    }
   },
   "execution_count": 7,
   "outputs": [
    {
     "data": {
      "text/plain": "            Date  Victimisations     SEX Age.Group.5Yr.Band OOI.Exclusion  \\\n18395 2015-06-01               2  Female  Middle-aged-young  Court action   \n23448 2015-06-01               1    Male  Middle-aged-young  Court action   \n62710 2015-06-01               2    Male    Middle-aged-old  Court action   \n66759 2015-06-01               1    Male            Elderly  Court action   \n23211 2015-06-01               2    Male  Middle-aged-young  Court action   \n...          ...             ...     ...                ...           ...   \n70614 2023-07-01               1  Female  Middle-aged-young  Court action   \n70613 2023-07-01               2  Female  Middle-aged-young  Court action   \n71770 2023-07-01               1  Female    Middle-aged-old  Court action   \n71771 2023-07-01               1  Female  Middle-aged-young  Court action   \n71079 2023-07-01               2    Male    Middle-aged-old  Court action   \n\n         Ethnic.Group                           ANZSOC.Group  class  \n18395           Maori  Theft (Except Motor Vehicles), N.E.C.      0  \n23448        European  Theft (Except Motor Vehicles), N.E.C.      0  \n62710  Pacific Island    Serious Assault Resulting in Injury      0  \n66759        European         Illegal Use of a Motor Vehicle      0  \n23211        European                     Aggravated Robbery      0  \n...               ...                                    ...    ...  \n70614  Pacific Island         Illegal Use of a Motor Vehicle      0  \n70613  Pacific Island         Illegal Use of a Motor Vehicle      0  \n71770           Asian               Abduction and Kidnapping      0  \n71771        European               Abduction and Kidnapping      0  \n71079          Indian         Illegal Use of a Motor Vehicle      0  \n\n[62830 rows x 8 columns]",
      "text/html": "<div>\n<style scoped>\n    .dataframe tbody tr th:only-of-type {\n        vertical-align: middle;\n    }\n\n    .dataframe tbody tr th {\n        vertical-align: top;\n    }\n\n    .dataframe thead th {\n        text-align: right;\n    }\n</style>\n<table border=\"1\" class=\"dataframe\">\n  <thead>\n    <tr style=\"text-align: right;\">\n      <th></th>\n      <th>Date</th>\n      <th>Victimisations</th>\n      <th>SEX</th>\n      <th>Age.Group.5Yr.Band</th>\n      <th>OOI.Exclusion</th>\n      <th>Ethnic.Group</th>\n      <th>ANZSOC.Group</th>\n      <th>class</th>\n    </tr>\n  </thead>\n  <tbody>\n    <tr>\n      <th>18395</th>\n      <td>2015-06-01</td>\n      <td>2</td>\n      <td>Female</td>\n      <td>Middle-aged-young</td>\n      <td>Court action</td>\n      <td>Maori</td>\n      <td>Theft (Except Motor Vehicles), N.E.C.</td>\n      <td>0</td>\n    </tr>\n    <tr>\n      <th>23448</th>\n      <td>2015-06-01</td>\n      <td>1</td>\n      <td>Male</td>\n      <td>Middle-aged-young</td>\n      <td>Court action</td>\n      <td>European</td>\n      <td>Theft (Except Motor Vehicles), N.E.C.</td>\n      <td>0</td>\n    </tr>\n    <tr>\n      <th>62710</th>\n      <td>2015-06-01</td>\n      <td>2</td>\n      <td>Male</td>\n      <td>Middle-aged-old</td>\n      <td>Court action</td>\n      <td>Pacific Island</td>\n      <td>Serious Assault Resulting in Injury</td>\n      <td>0</td>\n    </tr>\n    <tr>\n      <th>66759</th>\n      <td>2015-06-01</td>\n      <td>1</td>\n      <td>Male</td>\n      <td>Elderly</td>\n      <td>Court action</td>\n      <td>European</td>\n      <td>Illegal Use of a Motor Vehicle</td>\n      <td>0</td>\n    </tr>\n    <tr>\n      <th>23211</th>\n      <td>2015-06-01</td>\n      <td>2</td>\n      <td>Male</td>\n      <td>Middle-aged-young</td>\n      <td>Court action</td>\n      <td>European</td>\n      <td>Aggravated Robbery</td>\n      <td>0</td>\n    </tr>\n    <tr>\n      <th>...</th>\n      <td>...</td>\n      <td>...</td>\n      <td>...</td>\n      <td>...</td>\n      <td>...</td>\n      <td>...</td>\n      <td>...</td>\n      <td>...</td>\n    </tr>\n    <tr>\n      <th>70614</th>\n      <td>2023-07-01</td>\n      <td>1</td>\n      <td>Female</td>\n      <td>Middle-aged-young</td>\n      <td>Court action</td>\n      <td>Pacific Island</td>\n      <td>Illegal Use of a Motor Vehicle</td>\n      <td>0</td>\n    </tr>\n    <tr>\n      <th>70613</th>\n      <td>2023-07-01</td>\n      <td>2</td>\n      <td>Female</td>\n      <td>Middle-aged-young</td>\n      <td>Court action</td>\n      <td>Pacific Island</td>\n      <td>Illegal Use of a Motor Vehicle</td>\n      <td>0</td>\n    </tr>\n    <tr>\n      <th>71770</th>\n      <td>2023-07-01</td>\n      <td>1</td>\n      <td>Female</td>\n      <td>Middle-aged-old</td>\n      <td>Court action</td>\n      <td>Asian</td>\n      <td>Abduction and Kidnapping</td>\n      <td>0</td>\n    </tr>\n    <tr>\n      <th>71771</th>\n      <td>2023-07-01</td>\n      <td>1</td>\n      <td>Female</td>\n      <td>Middle-aged-young</td>\n      <td>Court action</td>\n      <td>European</td>\n      <td>Abduction and Kidnapping</td>\n      <td>0</td>\n    </tr>\n    <tr>\n      <th>71079</th>\n      <td>2023-07-01</td>\n      <td>2</td>\n      <td>Male</td>\n      <td>Middle-aged-old</td>\n      <td>Court action</td>\n      <td>Indian</td>\n      <td>Illegal Use of a Motor Vehicle</td>\n      <td>0</td>\n    </tr>\n  </tbody>\n</table>\n<p>62830 rows × 8 columns</p>\n</div>"
     },
     "execution_count": 7,
     "metadata": {},
     "output_type": "execute_result"
    }
   ]
  },
  {
   "cell_type": "code",
   "source": [
    "label_cols = ['SEX', 'Age.Group.5Yr.Band', 'Ethnic.Group', 'ANZSOC.Group']\n",
    "for col in label_cols:\n",
    "    le = LabelEncoder()\n",
    "    data[col] = le.fit_transform(data[col])"
   ],
   "metadata": {
    "id": "_bySc_TwBP8x",
    "ExecuteTime": {
     "end_time": "2023-10-20T07:14:11.112349800Z",
     "start_time": "2023-10-20T07:14:10.999317100Z"
    }
   },
   "execution_count": 8,
   "outputs": []
  },
  {
   "cell_type": "code",
   "source": [
    "X = data.drop(columns=['Date', 'class' ,'OOI.Exclusion'])\n",
    "y = data['class']\n",
    "X_train, X_test, y_train, y_test = train_test_split(X, y, test_size=0.2, random_state=42)"
   ],
   "metadata": {
    "id": "cSu4-LgOBU_r",
    "ExecuteTime": {
     "end_time": "2023-10-20T07:14:13.527226300Z",
     "start_time": "2023-10-20T07:14:13.484607600Z"
    }
   },
   "execution_count": 9,
   "outputs": []
  },
  {
   "cell_type": "code",
   "source": [
    "clf = xgb.XGBClassifier(n_estimators=50, learning_rate=0.1,max_depth=10,subsample=0.1, colsample_bytree=0.8)\n",
    "clf.fit(X_train, y_train)"
   ],
   "metadata": {
    "colab": {
     "base_uri": "https://localhost:8080/",
     "height": 248
    },
    "id": "RMI0pE43BgIW",
    "outputId": "fa5012b3-ed26-4c79-ee9e-636af0f71bb6",
    "ExecuteTime": {
     "end_time": "2023-10-20T07:14:15.637071300Z",
     "start_time": "2023-10-20T07:14:15.237266300Z"
    }
   },
   "execution_count": 10,
   "outputs": [
    {
     "data": {
      "text/plain": "XGBClassifier(base_score=None, booster=None, callbacks=None,\n              colsample_bylevel=None, colsample_bynode=None,\n              colsample_bytree=0.8, device=None, early_stopping_rounds=None,\n              enable_categorical=False, eval_metric=None, feature_types=None,\n              gamma=None, grow_policy=None, importance_type=None,\n              interaction_constraints=None, learning_rate=0.1, max_bin=None,\n              max_cat_threshold=None, max_cat_to_onehot=None,\n              max_delta_step=None, max_depth=10, max_leaves=None,\n              min_child_weight=None, missing=nan, monotone_constraints=None,\n              multi_strategy=None, n_estimators=50, n_jobs=None,\n              num_parallel_tree=None, random_state=None, ...)",
      "text/html": "<style>#sk-container-id-1 {color: black;}#sk-container-id-1 pre{padding: 0;}#sk-container-id-1 div.sk-toggleable {background-color: white;}#sk-container-id-1 label.sk-toggleable__label {cursor: pointer;display: block;width: 100%;margin-bottom: 0;padding: 0.3em;box-sizing: border-box;text-align: center;}#sk-container-id-1 label.sk-toggleable__label-arrow:before {content: \"▸\";float: left;margin-right: 0.25em;color: #696969;}#sk-container-id-1 label.sk-toggleable__label-arrow:hover:before {color: black;}#sk-container-id-1 div.sk-estimator:hover label.sk-toggleable__label-arrow:before {color: black;}#sk-container-id-1 div.sk-toggleable__content {max-height: 0;max-width: 0;overflow: hidden;text-align: left;background-color: #f0f8ff;}#sk-container-id-1 div.sk-toggleable__content pre {margin: 0.2em;color: black;border-radius: 0.25em;background-color: #f0f8ff;}#sk-container-id-1 input.sk-toggleable__control:checked~div.sk-toggleable__content {max-height: 200px;max-width: 100%;overflow: auto;}#sk-container-id-1 input.sk-toggleable__control:checked~label.sk-toggleable__label-arrow:before {content: \"▾\";}#sk-container-id-1 div.sk-estimator input.sk-toggleable__control:checked~label.sk-toggleable__label {background-color: #d4ebff;}#sk-container-id-1 div.sk-label input.sk-toggleable__control:checked~label.sk-toggleable__label {background-color: #d4ebff;}#sk-container-id-1 input.sk-hidden--visually {border: 0;clip: rect(1px 1px 1px 1px);clip: rect(1px, 1px, 1px, 1px);height: 1px;margin: -1px;overflow: hidden;padding: 0;position: absolute;width: 1px;}#sk-container-id-1 div.sk-estimator {font-family: monospace;background-color: #f0f8ff;border: 1px dotted black;border-radius: 0.25em;box-sizing: border-box;margin-bottom: 0.5em;}#sk-container-id-1 div.sk-estimator:hover {background-color: #d4ebff;}#sk-container-id-1 div.sk-parallel-item::after {content: \"\";width: 100%;border-bottom: 1px solid gray;flex-grow: 1;}#sk-container-id-1 div.sk-label:hover label.sk-toggleable__label {background-color: #d4ebff;}#sk-container-id-1 div.sk-serial::before {content: \"\";position: absolute;border-left: 1px solid gray;box-sizing: border-box;top: 0;bottom: 0;left: 50%;z-index: 0;}#sk-container-id-1 div.sk-serial {display: flex;flex-direction: column;align-items: center;background-color: white;padding-right: 0.2em;padding-left: 0.2em;position: relative;}#sk-container-id-1 div.sk-item {position: relative;z-index: 1;}#sk-container-id-1 div.sk-parallel {display: flex;align-items: stretch;justify-content: center;background-color: white;position: relative;}#sk-container-id-1 div.sk-item::before, #sk-container-id-1 div.sk-parallel-item::before {content: \"\";position: absolute;border-left: 1px solid gray;box-sizing: border-box;top: 0;bottom: 0;left: 50%;z-index: -1;}#sk-container-id-1 div.sk-parallel-item {display: flex;flex-direction: column;z-index: 1;position: relative;background-color: white;}#sk-container-id-1 div.sk-parallel-item:first-child::after {align-self: flex-end;width: 50%;}#sk-container-id-1 div.sk-parallel-item:last-child::after {align-self: flex-start;width: 50%;}#sk-container-id-1 div.sk-parallel-item:only-child::after {width: 0;}#sk-container-id-1 div.sk-dashed-wrapped {border: 1px dashed gray;margin: 0 0.4em 0.5em 0.4em;box-sizing: border-box;padding-bottom: 0.4em;background-color: white;}#sk-container-id-1 div.sk-label label {font-family: monospace;font-weight: bold;display: inline-block;line-height: 1.2em;}#sk-container-id-1 div.sk-label-container {text-align: center;}#sk-container-id-1 div.sk-container {/* jupyter's `normalize.less` sets `[hidden] { display: none; }` but bootstrap.min.css set `[hidden] { display: none !important; }` so we also need the `!important` here to be able to override the default hidden behavior on the sphinx rendered scikit-learn.org. See: https://github.com/scikit-learn/scikit-learn/issues/21755 */display: inline-block !important;position: relative;}#sk-container-id-1 div.sk-text-repr-fallback {display: none;}</style><div id=\"sk-container-id-1\" class=\"sk-top-container\"><div class=\"sk-text-repr-fallback\"><pre>XGBClassifier(base_score=None, booster=None, callbacks=None,\n              colsample_bylevel=None, colsample_bynode=None,\n              colsample_bytree=0.8, device=None, early_stopping_rounds=None,\n              enable_categorical=False, eval_metric=None, feature_types=None,\n              gamma=None, grow_policy=None, importance_type=None,\n              interaction_constraints=None, learning_rate=0.1, max_bin=None,\n              max_cat_threshold=None, max_cat_to_onehot=None,\n              max_delta_step=None, max_depth=10, max_leaves=None,\n              min_child_weight=None, missing=nan, monotone_constraints=None,\n              multi_strategy=None, n_estimators=50, n_jobs=None,\n              num_parallel_tree=None, random_state=None, ...)</pre><b>In a Jupyter environment, please rerun this cell to show the HTML representation or trust the notebook. <br />On GitHub, the HTML representation is unable to render, please try loading this page with nbviewer.org.</b></div><div class=\"sk-container\" hidden><div class=\"sk-item\"><div class=\"sk-estimator sk-toggleable\"><input class=\"sk-toggleable__control sk-hidden--visually\" id=\"sk-estimator-id-1\" type=\"checkbox\" checked><label for=\"sk-estimator-id-1\" class=\"sk-toggleable__label sk-toggleable__label-arrow\">XGBClassifier</label><div class=\"sk-toggleable__content\"><pre>XGBClassifier(base_score=None, booster=None, callbacks=None,\n              colsample_bylevel=None, colsample_bynode=None,\n              colsample_bytree=0.8, device=None, early_stopping_rounds=None,\n              enable_categorical=False, eval_metric=None, feature_types=None,\n              gamma=None, grow_policy=None, importance_type=None,\n              interaction_constraints=None, learning_rate=0.1, max_bin=None,\n              max_cat_threshold=None, max_cat_to_onehot=None,\n              max_delta_step=None, max_depth=10, max_leaves=None,\n              min_child_weight=None, missing=nan, monotone_constraints=None,\n              multi_strategy=None, n_estimators=50, n_jobs=None,\n              num_parallel_tree=None, random_state=None, ...)</pre></div></div></div></div></div>"
     },
     "execution_count": 10,
     "metadata": {},
     "output_type": "execute_result"
    }
   ]
  },
  {
   "cell_type": "code",
   "source": [
    "y_pred = clf.predict(X_test)\n",
    "print('Accuracy:', accuracy_score(y_test, y_pred))\n",
    "\n",
    "print(X_train)\n"
   ],
   "metadata": {
    "colab": {
     "base_uri": "https://localhost:8080/"
    },
    "id": "nOP8clZjBnFV",
    "outputId": "c9c0ddfe-c7e4-495e-cd7f-0094fe194498",
    "ExecuteTime": {
     "end_time": "2023-10-20T07:14:18.089989200Z",
     "start_time": "2023-10-20T07:14:18.031903900Z"
    }
   },
   "execution_count": 11,
   "outputs": [
    {
     "name": "stdout",
     "output_type": "stream",
     "text": [
      "Accuracy: 0.8796753143402833\n",
      "       Victimisations  SEX  Age.Group.5Yr.Band  Ethnic.Group  ANZSOC.Group\n",
      "26971               3    0                   1             1             9\n",
      "37976               2    1                   3             5            10\n",
      "66000               1    0                   2             3             8\n",
      "14161               1    1                   2             5             4\n",
      "66176               1    0                   3             5             2\n",
      "...               ...  ...                 ...           ...           ...\n",
      "71020               1    1                   2             1             3\n",
      "60613               1    1                   0             1             4\n",
      "71202               1    0                   1             3             4\n",
      "40067               2    0                   2             1             1\n",
      "82540               1    1                   2             3            10\n",
      "\n",
      "[50264 rows x 5 columns]\n"
     ]
    }
   ]
  },
  {
   "cell_type": "code",
   "execution_count": 191,
   "outputs": [
    {
     "name": "stdout",
     "output_type": "stream",
     "text": [
      "Ethnic_Group demographic parity difference: 0.14369747899159663\n",
      "Age_Group demographic parity difference: 0.04473406128918633\n",
      "SEX demographic parity difference: 0.00422577300490902\n",
      "ANZSOC_Group demographic parity difference: 0.21758569299552907\n"
     ]
    }
   ],
   "source": [
    "sensitive_feature_test1 = X_test['Ethnic.Group']\n",
    "sensitive_feature_test2 = X_test['Age.Group.5Yr.Band']\n",
    "sensitive_feature_test3 = X_test['SEX']\n",
    "\n",
    "\n",
    "Ethnic_Group_unfairness = demographic_parity_difference(y_test, y_pred, sensitive_features=sensitive_feature_test1)\n",
    "print(f\"Ethnic_Group demographic parity difference: {Ethnic_Group_unfairness}\")\n",
    "\n",
    "\n",
    "Age_Group_unfairness = demographic_parity_difference(y_test, y_pred, sensitive_features=sensitive_feature_test2)\n",
    "print(f\"Age_Group demographic parity difference: {Age_Group_unfairness}\")\n",
    "\n",
    "SEX_unfairness = demographic_parity_difference(y_test, y_pred, sensitive_features=sensitive_feature_test3)\n",
    "print(f\"SEX demographic parity difference: {SEX_unfairness}\")\n",
    "\n",
    "\n",
    "\n"
   ],
   "metadata": {
    "collapsed": false,
    "ExecuteTime": {
     "end_time": "2023-10-06T04:10:23.220655Z",
     "start_time": "2023-10-06T04:10:22.733128900Z"
    }
   }
  },
  {
   "cell_type": "code",
   "execution_count": 189,
   "outputs": [
    {
     "name": "stdout",
     "output_type": "stream",
     "text": [
      "Adjusted Accuracy: 0.8764921215979627\n"
     ]
    }
   ],
   "source": [
    "from sklearn.metrics import roc_curve, auc\n",
    "\n",
    "def calculate_optimal_thresholds(y_true, y_prob, groups):\n",
    "    thresholds = {}\n",
    "    \n",
    "    # For each group, calculate the ROC curve and pick the threshold that gives\n",
    "    # the best balance between TPR and FPR\n",
    "    for group in np.unique(groups):\n",
    "        fpr, tpr, thresh = roc_curve(y_true[groups == group], y_prob[groups == group])\n",
    "        optimal_idx = np.argmax(tpr - fpr)\n",
    "        thresholds[group] = thresh[optimal_idx]*7\n",
    "        \n",
    "    return thresholds\n",
    "\n",
    "\n",
    "# Get the predicted probabilities for the positive class\n",
    "y_prob = clf.predict_proba(X_test)[:, 1]\n",
    "\n",
    "# Get the optimal thresholds for each ethnic group\n",
    "optimal_thresholds = calculate_optimal_thresholds(y_test, y_prob, X_test['Ethnic.Group'])\n",
    "\n",
    "# Apply the thresholds to make final predictions\n",
    "y_pred_fair = np.array([int(y_prob[i] > optimal_thresholds[X_test['Ethnic.Group'].iloc[i]]) for i in range(len(y_prob))])\n",
    "\n",
    "# Calculate the new accuracy\n",
    "print('Adjusted Accuracy:', accuracy_score(y_test, y_pred_fair))\n"
   ],
   "metadata": {
    "collapsed": false,
    "ExecuteTime": {
     "end_time": "2023-10-06T04:08:47.195961800Z",
     "start_time": "2023-10-06T04:08:47.013006900Z"
    }
   }
  },
  {
   "cell_type": "code",
   "execution_count": 198,
   "outputs": [
    {
     "name": "stdout",
     "output_type": "stream",
     "text": [
      "Ethnic_Group demographic parity difference: 0.0226890756302521\n"
     ]
    }
   ],
   "source": [
    "sensitive_feature_test1 = X_test['Ethnic.Group']\n",
    "\n",
    "Ethnic_Group_unfairness = demographic_parity_difference(y_test, y_pred_fair, sensitive_features=sensitive_feature_test1)\n",
    "print(f\"Ethnic_Group demographic parity difference: {Ethnic_Group_unfairness}\")\n"
   ],
   "metadata": {
    "collapsed": false,
    "ExecuteTime": {
     "end_time": "2023-10-06T05:05:12.318717Z",
     "start_time": "2023-10-06T05:05:12.188018200Z"
    }
   }
  },
  {
   "cell_type": "code",
   "execution_count": 205,
   "outputs": [
    {
     "name": "stdout",
     "output_type": "stream",
     "text": [
      "Accuracy for 3: 0.8997955010224948\n",
      "Accuracy for 1: 0.8353978978978979\n",
      "Accuracy for 5: 0.9188069594034797\n",
      "Accuracy for 4: 0.944547134935305\n",
      "Accuracy for 2: 0.9033613445378151\n",
      "Accuracy for 0: 0.9327251995438997\n"
     ]
    }
   ],
   "source": [
    "import numpy as np\n",
    "\n",
    "# Assuming 'Ethnic.Group' is the protected attribute\n",
    "groups = data['Ethnic.Group'].unique()\n",
    "\n",
    "# Dictionaries to store models and predictions for each group\n",
    "models = {}\n",
    "predictions = {}\n",
    "\n",
    "for group in groups:\n",
    "    # Splitting data based on the group\n",
    "    X_train_group = X_train[X_train['Ethnic.Group'] == group]\n",
    "    y_train_group = y_train[X_train['Ethnic.Group'] == group]\n",
    "    X_test_group = X_test[X_test['Ethnic.Group'] == group]\n",
    "    \n",
    "    # Train a model for the group\n",
    "    clf_group = xgb.XGBClassifier(n_estimators=50, learning_rate=0.1, max_depth=10, subsample=0.1, colsample_bytree=0.8)\n",
    "    clf_group.fit(X_train_group, y_train_group)\n",
    "    \n",
    "    # Store the model\n",
    "    models[group] = clf_group\n",
    "    \n",
    "    # Predict probabilities for the positive class\n",
    "    probas = clf_group.predict_proba(X_test_group)[:, 1]\n",
    "    \n",
    "    # Store the predictions\n",
    "    predictions[group] = probas\n",
    "\n",
    "# Recalibrate predicted probabilities\n",
    "average_predicted_proba = np.mean([np.mean(probas) for probas in predictions.values()])\n",
    "for group, probas in predictions.items():\n",
    "    predictions[group] = probas + (average_predicted_proba - np.mean(probas))\n",
    "\n",
    "# Convert recalibrated probabilities to binary predictions using 0.5 as threshold\n",
    "binary_predictions = {}\n",
    "for group, probas in predictions.items():\n",
    "    binary_predictions[group] = (probas > 0.5).astype(int)\n",
    "\n",
    "# Now, evaluate fairness and performance\n",
    "for group in groups:\n",
    "    y_test_group = y_test[X_test['Ethnic.Group'] == group]\n",
    "    print(f\"Accuracy for {group}: {accuracy_score(y_test_group, binary_predictions[group])}\")\n"
   ],
   "metadata": {
    "collapsed": false,
    "ExecuteTime": {
     "end_time": "2023-10-06T09:44:01.779991800Z",
     "start_time": "2023-10-06T09:44:01.383676600Z"
    }
   }
  }
 ],
 "metadata": {
  "colab": {
   "provenance": [],
   "gpuType": "T4"
  },
  "kernelspec": {
   "name": "python3",
   "language": "python",
   "display_name": "Python 3 (ipykernel)"
  },
  "language_info": {
   "name": "python"
  },
  "accelerator": "GPU"
 },
 "nbformat": 4,
 "nbformat_minor": 0
}
